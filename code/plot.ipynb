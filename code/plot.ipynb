{
 "cells": [
  {
   "cell_type": "code",
   "execution_count": 39,
   "metadata": {},
   "outputs": [],
   "source": [
    "import os\n",
    "import random\n",
    "import numpy as np\n",
    "import matplotlib.pyplot as plt"
   ]
  },
  {
   "cell_type": "code",
   "execution_count": 40,
   "metadata": {},
   "outputs": [],
   "source": [
    "from matplotlib.gridspec import GridSpec\n",
    "import matplotlib.pyplot as plt\n",
    "from mpl_toolkits.axes_grid1 import make_axes_locatable\n",
    "\n",
    "\n",
    "def plot_N(images, texts=None, cmap='seismic'):\n",
    "    \n",
    "    fig = plt.figure(figsize=(32, 10))\n",
    "    gs = GridSpec(nrows=1, ncols=len(images))\n",
    "    gs.update( hspace = 0.5, wspace = 0.)\n",
    "\n",
    "    for i in range(len(images)):\n",
    "        ax = fig.add_subplot(gs[0, i])\n",
    "        \n",
    "        if cmap is None:\n",
    "            im = ax.imshow(images[i], vmin=0, vmax=1)\n",
    "        else:\n",
    "            im = ax.imshow(images[i], vmin=0, vmax=1, cmap=cmap)\n",
    "        \n",
    "        ax.patch.set_edgecolor('white')  \n",
    "        ax.patch.set_linewidth(5) \n",
    "        ax.set_xticks([])\n",
    "        ax.set_yticks([])\n",
    "        \n",
    "        if texts is not None:\n",
    "            ax.text(15, -5,  texts[i], size=15, ha=\"center\", color='black') #128\n",
    "        \n",
    "    plt.show()  "
   ]
  },
  {
   "cell_type": "code",
   "execution_count": 41,
   "metadata": {
    "scrolled": false
   },
   "outputs": [
    {
     "name": "stdout",
     "output_type": "stream",
     "text": [
      "This is sample 0. \n",
      "This is sample 1. \n",
      "This is sample 2. \n",
      "This is sample 3. \n",
      "This is sample 4. \n",
      "This is sample 5. \n",
      "This is sample 6. \n",
      "This is sample 7. \n",
      "This is sample 8. \n",
      "This is sample 9. \n"
     ]
    }
   ],
   "source": [
    "f = np.load('mnist_adam121_tf.pth_moving_mnist_prediction.npz')\n",
    "ground_truth = f['ground_truth']\n",
    "prediction = f['prediction']\n",
    "\n",
    "for sample_id in range(0, 10):\n",
    "    \n",
    "    print(f'This is sample {sample_id}. ')\n",
    "    \n",
    "    gt_frames, pred_frames = [], []\n",
    "    for i in range(ground_truth.shape[1]):\n",
    "        gt_i = ground_truth[sample_id, i, 0, ...]\n",
    "        gt_frames.append(gt_i)\n",
    "        pred_i = prediction[sample_id, i, 0, ...]\n",
    "        pred_frames.append(pred_i)\n",
    "    plot_N(gt_frames)            \n",
    "    plot_N(pred_frames)\n",
    "\n",
    "\n"
   ]
  },
  {
   "cell_type": "code",
   "execution_count": 42,
   "metadata": {},
   "outputs": [
    {
     "name": "stdout",
     "output_type": "stream",
     "text": [
      "Using matplotlib backend: MacOSX\n",
      "Warning: Cannot change to a different GUI toolkit: qt. Using osx instead.\n"
     ]
    }
   ],
   "source": [
    "%matplotlib auto\n",
    "%matplotlib qt\n",
    "\n",
    "import numpy as np\n",
    "from matplotlib import pyplot as plt\n",
    "plt.set_cmap(\"seismic\")\n",
    "\n",
    "def draw_me(img):\n",
    "    plt.pause(.1)\n",
    "    plt.imshow(img)\n",
    "\n"
   ]
  },
  {
   "cell_type": "code",
   "execution_count": 44,
   "metadata": {},
   "outputs": [
    {
     "name": "stdout",
     "output_type": "stream",
     "text": [
      "This is sample 0. \n",
      "This is sample 1. \n",
      "This is sample 2. \n",
      "This is sample 3. \n",
      "This is sample 4. \n",
      "This is sample 5. \n",
      "This is sample 6. \n",
      "This is sample 7. \n",
      "This is sample 8. \n",
      "This is sample 9. \n"
     ]
    },
    {
     "data": {
      "text/plain": [
       "'\\n    plot_N(gt_frames)            \\n    plot_N(pred_frames)\\n\\n'"
      ]
     },
     "execution_count": 44,
     "metadata": {},
     "output_type": "execute_result"
    }
   ],
   "source": [
    "for sample_id in range(0, 10):\n",
    "    \n",
    "    print(f'This is sample {sample_id}. ')\n",
    "    \n",
    "    gt_frames, pred_frames = [], []\n",
    "    for i in range(ground_truth.shape[1]):\n",
    "        gt_i = ground_truth[sample_id, i, 0, ...]\n",
    "        #draw_me(gt_i)\n",
    "        gt_frames.append(gt_i)\n",
    "        pred_i = prediction[sample_id, i, 0, ...]\n",
    "        #draw_me(pred_i)\n",
    "        diff = gt_i - pred_i\n",
    "        draw_me(diff)\n",
    "        pred_frames.append(pred_i)\n",
    "\"\"\"\n",
    "    plot_N(gt_frames)            \n",
    "    plot_N(pred_frames)\n",
    "\n",
    "\"\"\"\n"
   ]
  },
  {
   "cell_type": "code",
   "execution_count": null,
   "metadata": {},
   "outputs": [],
   "source": []
  }
 ],
 "metadata": {
  "kernelspec": {
   "display_name": "Python 3",
   "language": "python",
   "name": "python3"
  },
  "language_info": {
   "codemirror_mode": {
    "name": "ipython",
    "version": 3
   },
   "file_extension": ".py",
   "mimetype": "text/x-python",
   "name": "python",
   "nbconvert_exporter": "python",
   "pygments_lexer": "ipython3",
   "version": "3.8.3"
  }
 },
 "nbformat": 4,
 "nbformat_minor": 5
}
